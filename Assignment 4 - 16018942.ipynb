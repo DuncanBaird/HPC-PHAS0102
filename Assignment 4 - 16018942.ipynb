{
 "cells": [
  {
   "cell_type": "markdown",
   "metadata": {},
   "source": [
    "# Assignment 4 16018942\n",
    "\n",
    "### Table of Contents\n",
    "1. [Finite Stencil Method](#finitemethods)\n",
    "    1. [Explicit Implementation](#finiteexplicit)\n",
    "    2. [Implicit Implementation](#finiteimplicit)\n",
    "2. [Spectral Differentiation Method](#spectralmethods)\n",
    "    1. [Explicit Implementation](#spectralexplicit)\n",
    "    2. [Implicit Implementation](#spectralimplicit)\n",
    "3. [Investigation of Spectal Differentiation](#investigation)\n",
    "###### N.B Notebook runs in $\\approx 115s$ on computer used for development (Ubuntu 18.04.3 LTS, Intel® Core™ i7-6600U CPU @ 2.60GHz × 4) and formatting has been checked with autopep8 (https://pypi.org/project/autopep8/)\n",
    "\n",
    "### N.B. 3D plots may disappear or kill kernel if you 'Run All', just re run their code cell to interact with them."
   ]
  },
  {
   "cell_type": "markdown",
   "metadata": {},
   "source": [
    "### Introduction\n",
    "    \n",
    "The problem we are attempting to numerically solve is,\n",
    "$$ u_t = \\Delta u $$\n",
    "with boundary conditions $u=5$ on one side and $u=0$ on all other sides. This models heating a region of space at $temperature=0$ with a hot plate at a boundary at $temperature=5$, i.e. a heat diffusion problem.\n",
    "\n",
    "We are specifically solving this problem in time up to the point that the middle of the plate reaches $u=1$. The value of time at this point is the value we are attempting to compute with our numerical methods. \n",
    "\n",
    "We define the problem as running through time from $T = 0 \\rightarrow T=1$. This means at some value of $T^*=?$ the middle of the plate reaches $u=1$, this is the target value. \n",
    "\n",
    "First I'll briefly discuss some theory behind the methods employed and then carry them out.\n",
    "\n"
   ]
  },
  {
   "cell_type": "code",
   "execution_count": 1,
   "metadata": {},
   "outputs": [],
   "source": [
    "import pyopencl as cl\n",
    "import scipy as sp\n",
    "import numpy as np\n",
    "from scipy import sparse\n",
    "from scipy.sparse.linalg import LinearOperator\n",
    "from scipy.sparse.linalg import aslinearoperator\n",
    "from scipy.sparse.linalg import cg\n",
    "from scipy.sparse.linalg import cgs\n",
    "from scipy.sparse.linalg import spilu\n",
    "import numexpr as ne\n",
    "import matplotlib.pyplot as plt\n",
    "import random\n",
    "from random import randint\n",
    "import numba as nb\n",
    "from numba import njit\n",
    "from numba import jit\n",
    "from numba import prange\n",
    "from numba import types\n",
    "from multiprocessing import Pool\n",
    "from multiprocessing import Process\n",
    "from functools import partial\n",
    "import time\n",
    "#from time import time\n",
    "%matplotlib inline\n",
    "PI = np.pi\n",
    "import sys\n",
    "import os\n",
    "\n",
    "#Modify Numba Compilation Output\n",
    "os.environ[\"NUMBA_DISABLE_PERFORMANCE_WARNINGS\"] = '1'\n",
    "#plt.style.use('dark_background')"
   ]
  },
  {
   "cell_type": "markdown",
   "metadata": {},
   "source": [
    "We know from other historical work that the expected solution is, $$0.424011387033$$ so we can use this as a benchmark for comparing our result.\n",
    "\n",
    "N.B. Nomenclature: Accuracy is often used as a term throughout the notebook, to clarify its meaning I mean the delta from the target value as defined by this function."
   ]
  },
  {
   "cell_type": "code",
   "execution_count": 2,
   "metadata": {},
   "outputs": [],
   "source": [
    "@njit(nb.double(nb.double,nb.double))\n",
    "def target_dif(variable,option):\n",
    "    '''Function to test results against target.\n",
    "    Outputs decimal accuraccy or accuracy depending\n",
    "    on option'''\n",
    "    \n",
    "    if option == 1:\n",
    "    \n",
    "        a = np.abs(np.floor(np.log10(np.abs(0.424011387033-variable))))\n",
    "\n",
    "    elif option == 0:\n",
    "        a = np.abs(0.424011387033-variable)\n",
    "    return a"
   ]
  },
  {
   "cell_type": "markdown",
   "metadata": {},
   "source": [
    "We define a timer class for creating a metric for the different numerical methods. Although the core purpose of this task is computing the $T^*$ value we still want to consider the performance optimisation of different methods."
   ]
  },
  {
   "cell_type": "code",
   "execution_count": 3,
   "metadata": {},
   "outputs": [],
   "source": [
    "class Timer: \n",
    "    \"\"\"Calculates the time it takes to run a piece of code.\n",
    "\n",
    "    \"\"\"\n",
    "    def __enter__(self):\n",
    "        self.start = time.time()\n",
    "        return self\n",
    "    def __exit__(self, *args):\n",
    "        self.end = time.time()\n",
    "        self.interval = self.end - self.start\n"
   ]
  },
  {
   "cell_type": "markdown",
   "metadata": {},
   "source": [
    "## Explicit vs Implicit; Explanation\n",
    "\n",
    "(some background reading from **H. P. Langtangen and S. Linge: Finite Difference Computing with PDEs - A Modern Software Approach**)\n",
    "\n",
    "For solving a problem with a time dependancy there are generally two approaches that can be implemented to include time into an already complete spatial method. These are known as explicit and implicit methods, sometimes described as Forwards Euler and Backwards Euler.\n",
    "\n",
    "Quoting from literature:\n",
    "\n",
    "\"Discretization methods that lead to a coupled system of equations for the unknown function at a new time level are said to be implicit methods. The counterpart, explicit methods, refers to discretization methods where there is a simple explicit formula for the values of the unknown function at each of the spatial mesh points at the new time level. From an implementational point of view, implicit methods are more comprehensive to code since they require the solution of coupled equations, i.e., a matrix system, at each time level.\"\n",
    "\n",
    "#### Explicit\n",
    "\n",
    "Involves solving an equation with one unknown, the point in the system at the next time frame.\n",
    "\n",
    "#### Implicit\n",
    "\n",
    "Involves solving an equation with 5 unknowns, the point in the system and 4 surrounding points at the next time frame.\n",
    "\n",
    "\n",
    "This difference is important and although both methods can achieve similair results their behaviour in terms of performance and scalability.\n",
    "\n",
    "We should expect to see that implicit is a more accurate scheme for large time intervals whereas explicit will be more accurate for smaller time intervals.\n",
    "\n",
    "### Courant–Friedrichs–Lewy Condition\n",
    "\n",
    "For convergence on a solution in a time marching problem for an n dimensonal problem to be achieved the Courant number $C$ must satisfy the conditon, $$C = \\Delta t \\left( \\sum_{i=1}^n\\frac{u_{x_i}}{\\Delta x_i} \\right) \\leq C_\\max$$ in practice this means that our values for $dt$ and $dx$ need to be selected in such a way such that this condtion is satisfied.\n",
    "\n",
    "While this number was used in the development of the methods, for the final hand in of the notebook the values were not outputted.\n"
   ]
  },
  {
   "cell_type": "markdown",
   "metadata": {},
   "source": [
    "## Finite methods\n",
    "<a id=\"finitemethods\"></a>\n",
    "\n",
    "We can start tackling the problem with finite methods which use a multipoint stencil to evolve the a point in the system according the operator in the problem. These are applied across all points."
   ]
  },
  {
   "cell_type": "markdown",
   "metadata": {},
   "source": [
    "### Explicit\n",
    "<a id=\"finiteexplicit\"></a>"
   ]
  },
  {
   "cell_type": "code",
   "execution_count": 4,
   "metadata": {},
   "outputs": [],
   "source": [
    "class jacobi(LinearOperator):\n",
    "    '''Class that represents a Jacobi Iteration.'''\n",
    "    \n",
    "    def __init__(self,M):\n",
    "        \"\"\"Initialise Jacobi Iteration object.\n",
    "        \"\"\"\n",
    "        # defining shape and size:\n",
    "        self.m = M\n",
    "        self.shape = (M*M,M*M)\n",
    "        # OpenCL context\n",
    "        self.ctx = cl.create_some_context()\n",
    "        self.queue = cl.CommandQueue(self.ctx)\n",
    "        self.mf = cl.mem_flags\n",
    "        # creating an OpenCL kernel \n",
    "        self.kernel = \"\"\"\n",
    "        __kernel void stencil(const int N, const __global double* value, __global double* results) {\n",
    "                \n",
    "                // Thread identifiers\n",
    "                const int i = get_global_id(0);\n",
    "                const int j = get_global_id(1);\n",
    "                const int inverse = (N+1)*(N+1);\n",
    "        \n",
    "                // Calling points around the one you want to calculate\n",
    "                float centre = value[N*i + j];\n",
    "                float top = value[N*(i-1) + j];\n",
    "                float bottom = value[N*(i+1) + j];\n",
    "                float left = value[N*i + j-1];\n",
    "                float right = value[N*i + j+1];\n",
    "                \n",
    "                // Setting points on borders to zero/one\n",
    "                if (j == 0){\n",
    "                    top = 0;\n",
    "                }\n",
    "                if (i == (N-1)){\n",
    "                    bottom = 0;\n",
    "                }\n",
    "                if (i == 0){\n",
    "                    left = 5;\n",
    "                }\n",
    "                if (j == (N-1)){\n",
    "                    right = 0;\n",
    "                }\n",
    "                \n",
    "                if(i == 0){\n",
    "                    results[N*i + j] = 5;\n",
    "                }\n",
    "                \n",
    "                else if(j == 0 || i == (N-1) ||j == (N-1)){\n",
    "                    results[N*i + j] = 0;\n",
    "                }\n",
    "                else if(j == 0 && i == 0){\n",
    "                    results[N*i + j] = 5;\n",
    "                }\n",
    "                else{\n",
    "                    results[N*i + j] = (top + bottom + left + right)/4;\n",
    "                }\n",
    "                \n",
    "            }\n",
    "            \"\"\"\n",
    "        # Set up programme\n",
    "        self.prg = cl.Program(self.ctx, self.kernel).build()\n",
    "        \n",
    "        \n",
    "    def _matvec(self,value):\n",
    "        \"\"\"Runs the above kernel for jacobi iteration.\n",
    "        \"\"\" \n",
    "        # Setting data types\n",
    "        self.dtype = value.dtype\n",
    "        N = np.int32(self.m)\n",
    "        \n",
    "        dummy_value = np.ascontiguousarray(value)\n",
    "        \n",
    "        # Setting up array for results. \n",
    "        results = np.zeros_like(dummy_value).astype('float64')\n",
    "        \n",
    "        \n",
    "        # Setting up on device storage.\n",
    "        grid_device = cl.Buffer(self.ctx,self.mf.READ_ONLY | self.mf.COPY_HOST_PTR, hostbuf=dummy_value)\n",
    "        results_device = cl.Buffer(self.ctx, self.mf.WRITE_ONLY, value.nbytes)\n",
    "        \n",
    "        # setting up programme\n",
    "        linoperator = self.prg.stencil\n",
    "        ts = 1\n",
    "        # Running OpenCL program for given inputs.        \n",
    "        event = linoperator(self.queue, (N, N), (ts, ts), N, grid_device, results_device)\n",
    "        event.wait()\n",
    "        # Copy values to the results array\n",
    "        cl.enqueue_copy(self.queue, results, results_device)\n",
    "        event.wait()\n",
    "        self.queue.finish()\n",
    "\n",
    "        return results\n"
   ]
  },
  {
   "cell_type": "code",
   "execution_count": 5,
   "metadata": {},
   "outputs": [],
   "source": [
    "def plot_jacobi(M,time_steps,plot):\n",
    "    \"\"\"Plots the jacob stencil for the explicit scheme.\n",
    "    \"\"\" \n",
    "    # Call jacobi class above\n",
    "    jacobi_stencil = jacobi(M)\n",
    "    # starts with an array of zeros\n",
    "    B = np.zeros((M*M),dtype = 'float64')\n",
    "    \n",
    "    # Parameters\n",
    "    t_max = 1\n",
    "    dt = t_max/(1*time_steps)\n",
    "    dx = 2/(M-1)\n",
    "    t=0\n",
    "    n=0\n",
    "    t_k = 0\n",
    "\n",
    "    # Loop until midpoint temperature satisfied\n",
    "    while B.reshape(M,M)[int(M/2),int(M/2)] < 1:\n",
    "        \n",
    "        t = t+dt\n",
    "        n = n+1\n",
    "        B = jacobi_stencil._matvec(B)\n",
    "\n",
    "    if plot == 1:\n",
    "        # Printing crosshairs to confirm logic of midpoint choice.\n",
    "        B.reshape(M,M)[int(M/2),:] = np.nan\n",
    "        B.reshape(M,M)[:,int(M/2)] = np.nan\n",
    "\n",
    "        plt.figure(figsize=(8,8))\n",
    "        plt.imshow(B.reshape(M,M), extent=(-1,1,-1,1))\n",
    "        plt.title('Heatmap of solution $u$ with boundary conditions on \\n domain with t* '\n",
    "            +str(t)+' and for square array size: '+str(M))\n",
    "        plt.colorbar()\n",
    "        plt.figure()\n",
    "    print('Accurate to',target_dif(t,1), 'decimal place')\n",
    "    print('Courant',2*(dt/dx))"
   ]
  },
  {
   "cell_type": "code",
   "execution_count": 6,
   "metadata": {},
   "outputs": [
    {
     "name": "stdout",
     "output_type": "stream",
     "text": [
      "Accurate to 6.0 decimal place\n",
      "Courant 0.009998000399920015\n"
     ]
    },
    {
     "data": {
      "image/png": "[encoded data removed]",
      "text/plain": [
       "<Figure size 576x576 with 2 Axes>"
      ]
     },
     "metadata": {
      "needs_background": "light"
     },
     "output_type": "display_data"
    },
    {
     "data": {
      "text/plain": [
       "<Figure size 432x288 with 0 Axes>"
      ]
     },
     "metadata": {},
     "output_type": "display_data"
    }
   ],
   "source": [
    "plot_jacobi(101,10002,1)"
   ]
  },
  {
   "cell_type": "markdown",
   "metadata": {},
   "source": [
    "### Implicit\n",
    "<a id=\"finiteimplicit\"></a>"
   ]
  },
  {
   "cell_type": "code",
   "execution_count": 7,
   "metadata": {},
   "outputs": [],
   "source": [
    "class matrix_A_finite():\n",
    "    '''Class for representing system Ax=b'''\n",
    "    def __init__(self,m,c):\n",
    "        '''Constructor for creating A and \n",
    "        common variables across system.'''\n",
    "        \n",
    "        self.m=m #+2\n",
    "        self.m_orig = self.m #+2\n",
    "        self.h = (1/(self.m-1))\n",
    "        self.h2 = 1/((2/(self.m-1))**2)\n",
    "\n",
    "        #define B matrix\n",
    "        self.B = sp.sparse.coo_matrix((self.m, self.m), dtype=np.int8)#main diagonal of 4s #sub diagonals of -1\n",
    "        self.B.setdiag(np.ones((self.m))*4*c*self.h2+np.ones((self.m)),k=0)\n",
    "        self.B.setdiag(np.ones((self.m))*-1*c*self.h2,k=-1)\n",
    "        self.B.setdiag(np.ones((self.m))*-1*c*self.h2,k=1)\n",
    "        #define Identity matrix\n",
    "        self.I = sp.sparse.coo_matrix((self.m, self.m), dtype=np.int8)\n",
    "        self.I.setdiag(np.ones((self.m))*-1*c*self.h2,k=0)\n",
    "        \n",
    "        #define A matrix\n",
    "        dummy = sp.sparse.coo_matrix((self.m, self.m), dtype=np.int8)\n",
    "        dummy.setdiag(np.ones((self.m))*1,k=1)\n",
    "        dummy.setdiag(np.ones((self.m))*1,k=-1)\n",
    "        self.A = sp.sparse.kron(sp.sparse.identity(self.m),self.B,format=\"coo\")+sp.sparse.kron(dummy,self.I,format=\"coo\")\n",
    "        \n",
    "        \n",
    "        #### Encoding A to recognise boundary conditions and out of domain.\n",
    "        ##CORRECT#top boundary\n",
    "        for w in np.arange((0),(self.m_orig-1+1),dtype='int'):\n",
    "            self.A[w,:] = 0\n",
    "            self.A[w,w] = 1\n",
    "        \n",
    "        ##CORRECT#right hand boundary\n",
    "        for w in np.arange((1),(((self.m_orig)+1)),dtype='int'):\n",
    "            self.A[self.m_orig*w-1,:] = 0\n",
    "            self.A[self.m_orig*w-1,self.m_orig*w-1] = 1\n",
    "        \n",
    "        ##CORRECt#left hand boundary\n",
    "        for w in np.arange((0),(self.m_orig-1+1),dtype='int'):\n",
    "            self.A[w*self.m_orig,:] = 0\n",
    "            self.A[w*self.m_orig,w*self.m_orig] = 1\n",
    "            \n",
    "        ##CORRECT#bottom boundary\n",
    "        for w in np.arange(((self.m_orig-1)*self.m_orig),((self.m_orig**2)),dtype='int'):\n",
    "            self.A[w,:] = 0\n",
    "            self.A[w,w] = 1\n",
    "            \n",
    "            \n",
    "    def output(self):\n",
    "        '''Function to output matrix A in CSR format.'''\n",
    "        return self.A\n",
    "\n",
    "    \n",
    "    def check_output_is_csr(self):\n",
    "        '''Convenience function to check that\n",
    "        the output of A is in CSS format.'''\n",
    "        print(sp.sparse.isspmatrix_csr(self.A))\n",
    "    \n",
    "\n",
    "    def b_of_system(self):\n",
    "        '''Function to create b part of system.'''\n",
    "        \n",
    "        b = np.zeros((self.m, self.m),dtype=np.float64)\n",
    "                           \n",
    "        for i in range(0,1):\n",
    "            for j in range(self.m):\n",
    "                b[i, j] = 5\n",
    "                \n",
    "        return b.flatten()"
   ]
  },
  {
   "cell_type": "code",
   "execution_count": 8,
   "metadata": {},
   "outputs": [],
   "source": [
    "def plot_finite_implicit(iterations,M,plot):\n",
    "    '''Function to compute t* and plot solution u\n",
    "    for the finite method with the implicit time\n",
    "    implementation.'''\n",
    "    \n",
    "    # Parameters\n",
    "    t_max = 1\n",
    "    time_steps = iterations\n",
    "    dt = t_max/(1*time_steps)\n",
    "    dx = 2/(M-1)\n",
    "    \n",
    "    A = matrix_A_finite(M,dt)\n",
    "        \n",
    "    solution_L = A.b_of_system()\n",
    "    b = A.b_of_system()\n",
    "\n",
    "    t=0\n",
    "    n=0\n",
    "\n",
    "    # Loop until midpoint temperature satisfied\n",
    "    while solution_L[int(M*M/2)]<1:\n",
    "    \n",
    "        solution_L = sp.sparse.linalg.spsolve(A.output(), b)\n",
    "        b = solution_L\n",
    "        t+=dt\n",
    "        n+=1\n",
    " \n",
    "    # Plot if option enabled\n",
    "    if plot == 1:\n",
    "        plt.figure(figsize=(8,8))\n",
    "        plt.imshow(solution_L.reshape(M,M), cmap='viridis',extent=[-1,1,-1,1]) \n",
    "\n",
    "        plt.colorbar(label='Value of $u$ at position')\n",
    "        plt.title(\n",
    "            'Heatmap of solution $u$ with boundary conditions on \\n domain with t* '\n",
    "            +str(t)+' and for square array size: '+str(M))\n",
    "        plt.xlabel('$x$ Position')\n",
    "        plt.ylabel('$y$ Position')\n",
    "        plt.show()\n",
    "    \n",
    "    print('Accurate to',target_dif(t,1), 'decimal place')"
   ]
  },
  {
   "cell_type": "code",
   "execution_count": 9,
   "metadata": {},
   "outputs": [
    {
     "name": "stderr",
     "output_type": "stream",
     "text": [
      "/home/duncan/anaconda3/envs/hpc/lib/python3.7/site-packages/scipy/sparse/_index.py:127: SparseEfficiencyWarning: Changing the sparsity structure of a csr_matrix is expensive. lil_matrix is more efficient.\n",
      "  self._set_arrayXarray(i, j, x)\n"
     ]
    },
    {
     "data": {
      "image/png": "[encoded data removed]",
      "text/plain": [
       "<Figure size 576x576 with 2 Axes>"
      ]
     },
     "metadata": {
      "needs_background": "light"
     },
     "output_type": "display_data"
    },
    {
     "name": "stdout",
     "output_type": "stream",
     "text": [
      "Accurate to 4.0 decimal place\n"
     ]
    }
   ],
   "source": [
    "plot_finite_implicit(1E4,11,1)"
   ]
  },
  {
   "cell_type": "markdown",
   "metadata": {},
   "source": [
    "## Spectral Differentation\n",
    "<a id=\"spectralmethods\"></a>\n",
    "\n",
    "In place of using a finite stencil discretisation to replace the operator in the problem spectral differentiation implements a Fast Fourier Transform (FFT) that represents the operator as a sum of basis functions.\n",
    "\n",
    "While the methods are similair the key difference is that the spectral method is non zero over the entire domain whereas the finite methods is only locally non-zero. In other words this means that spectral solves the problem globally whereas finite solves locally.\n",
    "\n",
    "Spectral methods tend to be less computationally expensive and should be more robust for more configurations of the problem. Also the error in spectral method should be better.\n",
    "\n",
    "Here we will be using a spectral method that relies on Chebyshev polynomials as the basis functions in the Fourier expression of the operator.\n",
    "\n",
    "### Explicit\n",
    "<a id=\"spectralexplicit\"></a>"
   ]
  },
  {
   "cell_type": "code",
   "execution_count": 10,
   "metadata": {},
   "outputs": [],
   "source": [
    "def cheb(N):\n",
    "    '''Function to create spectral differentiation matrix\n",
    "    using chebyshev polynomials as the basis for the FFT.\n",
    "    Modified from lecture notes.\n",
    "    '''\n",
    "    N=N-1\n",
    "    if N==0: \n",
    "        D = np.array([[0.]]); x = np.array([1.])\n",
    "    else:\n",
    "        n = np.arange(0,N + 1)\n",
    "        x = np.cos(np.pi* n / N).reshape(N + 1, 1) \n",
    "        c = (np.hstack(( [2.], np.ones(N - 1), [2.]))*(-1)**n).reshape(N + 1,1)\n",
    "        X = np.tile(x,(1,N + 1))\n",
    "        dX = X - X.T\n",
    "        D = np.dot(c,1./c.T)/(dX + np.eye(N + 1))\n",
    "        D -= np.diag( np.sum( D.T, axis=0))\n",
    "    return D, x.reshape(N + 1)"
   ]
  },
  {
   "cell_type": "code",
   "execution_count": 11,
   "metadata": {},
   "outputs": [],
   "source": [
    "class matrix_A_spectral():\n",
    "    '''Class for representing system Ax=b with\n",
    "    spectral differentiation.'''\n",
    "    def __init__(self,m):\n",
    "        '''Constructor for creating A and \n",
    "        common variables across system.'''\n",
    "        \n",
    "        self.m=m #+2\n",
    "        self.m_orig = self.m #+2\n",
    "        self.h = (1/(self.m-1))\n",
    "        self.h2 = (1/(self.m-1))**2\n",
    "        \n",
    "        ##CHEB\n",
    "        self.N = self.m\n",
    "        self.D,self.x = cheb(self.N)\n",
    "        self.I2 = np.eye(self.N)\n",
    "\n",
    "        # Create the second derivative matrix\n",
    "        self.D2 = self.D @ self.D\n",
    "        # Delta operator and right-hand side\n",
    "        self.A = -(np.kron(self.D2, self.I2) + np.kron(self.I2, self.D2))\n",
    "        \n",
    "        #### Encoding A to recognise boundary conditions and out of domain.\n",
    "       \n",
    "        ##CORRECT#top boundary\n",
    "        for w in np.arange((0),(self.m_orig-1+1),dtype='int'):\n",
    "            self.A[w,:] = 0\n",
    "            self.A[w,w] = 1\n",
    "        \n",
    "        ##CORRECT#right hand boundary\n",
    "        for w in np.arange((1),(((self.m_orig)+1)),dtype='int'):\n",
    "            self.A[self.m_orig*w-1,:] = 0\n",
    "            self.A[self.m_orig*w-1,self.m_orig*w-1] = 1\n",
    "        \n",
    "        ##CORRECt#left hand boundary\n",
    "        for w in np.arange((0),(self.m_orig-1+1),dtype='int'):\n",
    "            self.A[w*self.m_orig,:] = 0\n",
    "            self.A[w*self.m_orig,w*self.m_orig] = 1\n",
    "            \n",
    "        ##CORRECT#bottom boundary\n",
    "        for w in np.arange(((self.m_orig-1)*self.m_orig),((self.m_orig**2)),dtype='int'):\n",
    "            self.A[w,:] = 0\n",
    "            self.A[w,w] = 1\n",
    "            \n",
    "    def output(self):\n",
    "        '''Function to output matrix A in CSR format.'''\n",
    "        return self.A\n",
    "\n",
    "    def check_output_is_csr(self):\n",
    "        '''Convenience function to check that\n",
    "        the output of A is in CSS format.'''\n",
    "        print(sp.sparse.isspmatrix_csr(self.A))\n",
    "    \n",
    "    def b_of_system(self):\n",
    "        '''Function to create b part of system.'''\n",
    "        \n",
    "        b = np.zeros((self.m, self.m),dtype=np.float64)\n",
    "        \n",
    "        # x0 = -5\n",
    "        # y0 = -5\n",
    "                \n",
    "        for i in range(0,1):\n",
    "            for j in range(self.m):\n",
    "                b[i, j] = 5\n",
    "        return b.flatten()"
   ]
  },
  {
   "cell_type": "code",
   "execution_count": 12,
   "metadata": {},
   "outputs": [],
   "source": [
    "def plot_spectral_explicit(iterations,M,plot,decimal,investigate):\n",
    "    '''Function to compute t* and plot solution u\n",
    "    using spectral differentiation with the\n",
    "    explict time implementation.\n",
    "    '''\n",
    "    \n",
    "    #Parameters\n",
    "    t_max = 1\n",
    "    time_steps = iterations\n",
    "    dt = t_max/(1*time_steps)\n",
    "    dx = 1/(M-1)\n",
    "    a = 0.5\n",
    "    c = a*dt/dx**2\n",
    "    \n",
    "    D, x = cheb(M)\n",
    "    D2 = D @ D\n",
    "    I = np.eye(M)\n",
    "    A = (np.kron(D2, I) + np.kron(I, D2))\n",
    "    I2 = np.eye(M**2)\n",
    "    \n",
    "    u = np.zeros(M**2)\n",
    "    u[:M] = 5\n",
    "    \n",
    "    midpoint = (M*M)//2\n",
    "    t = 0\n",
    "    iterations = 0\n",
    "    \n",
    "    A = I2 + dt*A\n",
    "\n",
    "    @njit(['Tuple((float64[:],float64))(float64[:,:],float64[:],float64,float64,int8,int8)'])\n",
    "    def faster(A,u,t,dt,iterations,midpoint):\n",
    "        '''Numba compiled functon to accelerate\n",
    "        computation.\n",
    "        '''\n",
    "        x=0\n",
    "        # Loop until midpoint temperature satisfied\n",
    "        while x < 1:\n",
    "        \n",
    "            u = np.dot(A,u)\n",
    "            u[:M] = 5\n",
    "            u[M:M*(M-1):M] = 0\n",
    "            u[M+M-1:M*(M-1):M] = 0\n",
    "            u[M*(M-1):] = 0\n",
    "\n",
    "            t += dt\n",
    "            iterations += 1\n",
    "            x = u[midpoint]\n",
    "        return u,t\n",
    "    \n",
    "    # Calling Numba accelerated function\n",
    "    u,t = faster(A,u,t,dt,iterations,int(midpoint))\n",
    "    \n",
    "    # Plotting if opton enables\n",
    "    if plot == 1:\n",
    "        plt.figure(figsize=(8,8))\n",
    "        plt.imshow(u.reshape(M,M), cmap='viridis',extent=[-1,1,-1,1]) #solution_L.reshape(M+2, M+2)\n",
    "\n",
    "        plt.colorbar(label='Value of $u$ at position')\n",
    "        plt.title(\n",
    "            'Heatmap of solution $u$ with boundary conditions on \\n domain with t* '\n",
    "            +str(t)+' and for square array size: '+str(M))\n",
    "        plt.xlabel('$x$ Position')\n",
    "        plt.ylabel('$y$ Position')\n",
    "        plt.show()\n",
    "\n",
    "    ## Other output options\n",
    "    if decimal == 1:    \n",
    "        print('Accurate to',target_dif(t,1), 'decimal place')\n",
    "    if investigate == 1:\n",
    "        return M,time_steps,target_dif(t,0)"
   ]
  },
  {
   "cell_type": "code",
   "execution_count": 13,
   "metadata": {},
   "outputs": [
    {
     "data": {
      "image/png": "[encoded data removed]",
      "text/plain": [
       "<Figure size 576x576 with 2 Axes>"
      ]
     },
     "metadata": {
      "needs_background": "light"
     },
     "output_type": "display_data"
    },
    {
     "name": "stdout",
     "output_type": "stream",
     "text": [
      "Accurate to 6.0 decimal place\n"
     ]
    }
   ],
   "source": [
    "plot_spectral_explicit(1E5,11,1,1,0)"
   ]
  },
  {
   "cell_type": "markdown",
   "metadata": {},
   "source": [
    "### Implicit\n",
    "<a id=\"spectralimplicit\"></a>"
   ]
  },
  {
   "cell_type": "code",
   "execution_count": 14,
   "metadata": {},
   "outputs": [],
   "source": [
    "def plot_spectral_implicit(iterations,M,plot,decimal,investigate):\n",
    "    '''Function to compute t* and plot solution u\n",
    "    using spectral differentiation with the\n",
    "    implicit time implementation.\n",
    "    '''\n",
    "    \n",
    "    #Parameters\n",
    "    t_max = 1\n",
    "    time_steps = iterations\n",
    "    dt = t_max/(1*time_steps)\n",
    "    dx = 1/(M-1)\n",
    "\n",
    "    #Spectral matrix \n",
    "    D, x = cheb(M)\n",
    "    D2 = D @ D\n",
    "    I = np.eye(M)\n",
    "    A = (np.kron(D2, I) + np.kron(I, D2))\n",
    "    I2 = np.eye(M**2)\n",
    "    \n",
    "    A = sparse.csr_matrix(A)\n",
    "    I2 = sparse.csr_matrix(I2)\n",
    "    \n",
    "    u = np.zeros(M**2)\n",
    "    u[:M] = 5\n",
    "    \n",
    "    midpoint = (M*M)//2\n",
    "    t = 0\n",
    "    iterations = 0\n",
    "\n",
    "    A = I2 - dt*A\n",
    "\n",
    "    # Loop until midpoint temperature satisfied\n",
    "    while u[midpoint] < 1:\n",
    "\n",
    "        u = sp.sparse.linalg.spsolve((A), u)\n",
    "        u[:M] = 5\n",
    "        u[M:M*(M-1):M] = 0\n",
    "        u[M+M-1:M*(M-1):M] = 0\n",
    "        u[M*(M-1):] = 0\n",
    "\n",
    "        t += dt\n",
    "        iterations += 1\n",
    "    \n",
    "    # Plot if option enabled\n",
    "    if plot == 1:\n",
    "        plt.figure(figsize=(8,8))\n",
    "        plt.imshow(u.reshape(M,M), cmap='viridis',extent=[-1,1,-1,1]) #solution_L.reshape(M+2, M+2)\n",
    "\n",
    "        plt.colorbar(label='Value of $u$ at position')\n",
    "        plt.title(\n",
    "            'Heatmap of solution $u$ with boundary conditions on \\n domain with t* '\n",
    "            +str(t)+' and for square array size: '+str(M))\n",
    "        plt.xlabel('$x$ Position')\n",
    "        plt.ylabel('$y$ Position')\n",
    "        plt.show()\n",
    "    \n",
    "    # Other output options\n",
    "    if decimal == 1:\n",
    "        print('Accurate to',target_dif(t,1), 'decimal place')\n",
    "\n",
    "    if investigate == 1:\n",
    "        return M,time_steps,target_dif(t,0)"
   ]
  },
  {
   "cell_type": "code",
   "execution_count": 15,
   "metadata": {},
   "outputs": [
    {
     "data": {
      "image/png": "[encoded data removed]",
      "text/plain": [
       "<Figure size 576x576 with 2 Axes>"
      ]
     },
     "metadata": {
      "needs_background": "light"
     },
     "output_type": "display_data"
    },
    {
     "name": "stdout",
     "output_type": "stream",
     "text": [
      "Accurate to 3.0 decimal place\n"
     ]
    }
   ],
   "source": [
    "plot_spectral_implicit(1E5,5,1,1,0)"
   ]
  },
  {
   "cell_type": "markdown",
   "metadata": {},
   "source": [
    "# Investigation of parameter effects\n",
    "<a id=\"investigation\"></a>\n",
    "\n",
    "Now that the methods for both discretisations appear to be working correctly we can begin to compare and study them over their different parameters.\n",
    "\n",
    "For all of the methods used above there are two key parameters that define them. The size of the matrix that the space is represented by (this directly affects the spacing of points in the system) and the number of time steps the system is run in time with (this directly affects the time granularity.)\n",
    "\n",
    "Calls for our four methods:\n",
    "\n",
    "Finite: ```plot_jacobi(101,10002,1)```,``` plot_finite_implicit(1E5,11,1)```\n",
    "\n",
    "Spectral: ```plot_spectral_explicit(1E5,31,1)```,```plot_spectral_implicit(1E5,5,1)```"
   ]
  },
  {
   "cell_type": "markdown",
   "metadata": {},
   "source": [
    "The first thing we look at is the computaton time taken for the different methods for alike parameters, which should give some insight into proceeding with the rest of the investigation. It is worth noting though that for finite vs spectral different optimisations have been used and so it is not an 'apples to apples' comparison.\n",
    "\n",
    "The methods are run with plotting disabled so that any plotting functions do not affect the time to compute."
   ]
  },
  {
   "cell_type": "code",
   "execution_count": 16,
   "metadata": {},
   "outputs": [
    {
     "name": "stdout",
     "output_type": "stream",
     "text": [
      "Finite explicit:\n",
      "Accurate to 1.0 decimal place\n",
      "Courant 4e-05\n",
      "0.009770870208740234 s\n",
      "\n",
      "Finite implicit:\n"
     ]
    },
    {
     "name": "stderr",
     "output_type": "stream",
     "text": [
      "/home/duncan/anaconda3/envs/hpc/lib/python3.7/site-packages/scipy/sparse/_index.py:127: SparseEfficiencyWarning: Changing the sparsity structure of a csr_matrix is expensive. lil_matrix is more efficient.\n",
      "  self._set_arrayXarray(i, j, x)\n"
     ]
    },
    {
     "name": "stdout",
     "output_type": "stream",
     "text": [
      "Accurate to 4.0 decimal place\n",
      "3.089158535003662 s\n",
      "\n",
      "Spectral explicit:\n",
      "Accurate to 3.0 decimal place\n",
      "0.2651357650756836 s\n",
      "\n",
      "Spectral implicit:\n",
      "Accurate to 3.0 decimal place\n",
      "2.72674560546875 s\n",
      "\n"
     ]
    }
   ],
   "source": [
    "print('Finite explicit:')\n",
    "with Timer() as t:\n",
    "    plot_jacobi(5,1E5,0)\n",
    "print(t.interval,'s\\n')\n",
    "\n",
    "print('Finite implicit:')\n",
    "with Timer() as t:\n",
    "    plot_finite_implicit(1E5,5,0)\n",
    "print(t.interval,'s\\n')\n",
    "\n",
    "print('Spectral explicit:')\n",
    "with Timer() as t:\n",
    "    plot_spectral_explicit(1E5,5,0,1,0)\n",
    "print(t.interval,'s\\n')\n",
    "\n",
    "print('Spectral implicit:')\n",
    "with Timer() as t:\n",
    "    plot_spectral_implicit(1E5,5,0,1,0)\n",
    "print(t.interval,'s\\n')"
   ]
  },
  {
   "cell_type": "markdown",
   "metadata": {},
   "source": [
    "These prelimenary results would indicate that in general the spectral methods are slower and less accurate. I do however feel that the finite implementation is not wholly correct as their behaviour in my development of the notebook has been tempermental. As such I will investgate the parameters for only for spectral (comparing the explicit and implicit implementations.)\n",
    "\n",
    "With regards to performance the explicit method will be much faster as I have been able to use numba on part of the computation that performs a matrix product. But since with the implict method I use a solver from scipy I cannot use numba to accelerate the operation, the only performance increase I have been able to achieve is by using sparse matrices througout."
   ]
  },
  {
   "cell_type": "code",
   "execution_count": 17,
   "metadata": {},
   "outputs": [
    {
     "name": "stdout",
     "output_type": "stream",
     "text": [
      "Spectral explicit:\n",
      "Accurate to 3.0 decimal place\n",
      "0.28487396240234375 s\n",
      "\n",
      "Spectral implicit:\n",
      "Accurate to 3.0 decimal place\n",
      "2.805185556411743 s\n",
      "\n"
     ]
    }
   ],
   "source": [
    "\n",
    "print('Spectral explicit:')\n",
    "with Timer() as t:\n",
    "    plot_spectral_explicit(1E5,5,0,1,0)\n",
    "print(t.interval,'s\\n')\n",
    "\n",
    "print('Spectral implicit:')\n",
    "with Timer() as t:\n",
    "    plot_spectral_implicit(1E5,5,0,1,0)\n",
    "print(t.interval,'s\\n')"
   ]
  },
  {
   "cell_type": "markdown",
   "metadata": {},
   "source": [
    "As can be seen the time difference between the two methods is hugely different, and there is no large dfference between the two methods with regards to the order of the accuracy (as can be seen they are both accurate to the 3rd decimal place for these values)."
   ]
  },
  {
   "cell_type": "code",
   "execution_count": 18,
   "metadata": {},
   "outputs": [],
   "source": [
    "from mpl_toolkits import mplot3d"
   ]
  },
  {
   "cell_type": "code",
   "execution_count": 19,
   "metadata": {},
   "outputs": [],
   "source": [
    "def plot_study(option):\n",
    "    '''Function to plot in 3D hardcoded data\n",
    "    from a variety of runs.\n",
    "    '''\n",
    "\n",
    "    fig = plt.figure()\n",
    "    ax = plt.axes(projection='3d')\n",
    "\n",
    "    # Accuracy\n",
    "    zdata_1 = [0.02165138703273839, 0.0020713870327188078, 1.138703271674757e-05, 1.3870327167375684e-06,1.3870327167375684e-06, 1.3870327167375684e-06, 1.3870327167375684e-06,0.021711387033027996, 0.0021113870330301543, 1.1387033030385574e-05, 1.1387033030385574e-05, 1.1387033030385574e-05, 1.1387033030385574e-05, 1.1387033030385574e-05,0.022011387032999707, 0.0030113870329996906, 0.0010113870329996888, 0.0010113870329996888, 0.0010113870329996888, 0.20501138703299984, 0.411011387033,0.021651387032879166, 0.002071387032859584, 1.1387032857523849e-05, 1.1387032857523849e-05, 1.1387032857523849e-05, 1.1387032857523849e-05, 1.1387032857523849e-05]\n",
    "    # Domain size\n",
    "    xdata_1 = [3, 5, 7, 9, 11, 13, 15,3, 5, 7, 9, 11, 13, 15,3, 5, 7, 9, 11, 13, 15,3, 5, 7, 9, 11, 13, 15]\n",
    "    # Time Steps\n",
    "    ydata_1 = [100000.0, 100000.0, 100000.0, 100000.0, 100000.0, 100000.0, 100000.0,10000.0, 10000.0, 10000.0, 10000.0, 10000.0, 10000.0, 10000.0,1000.0, 1000.0, 1000.0, 1000.0, 1000.0, 1000.0, 1000.0,50000.0, 50000.0, 50000.0, 50000.0, 50000.0, 50000.0, 50000.0]\n",
    "\n",
    "    # Accuracy\n",
    "    zdata_2 = [0.02167138703273841, 0.0020813870327188178, 1.138703271674757e-05, 1.138703271674757e-05, 1.138703271674757e-05, 1.138703271674757e-05, 1.138703271674757e-05,0.021811387033027985, 0.0022113870330301433, 0.00011138703303037456, 0.00011138703303037456, 0.00011138703303037456, 0.00011138703303037456, 0.00021138703303036355,0.02301138703299971, 0.0040113870329996915, 0.0010113870329996888, 0.0020113870329996897, 0.009011387032999696, 0.415011387033, 0.419011387033,0.021691387032879206, 0.002091387032859604, 3.138703285754385e-05, 3.138703285754385e-05, 3.138703285754385e-05, 3.138703285754385e-05, 3.138703285754385e-05]\n",
    "    # Domain size\n",
    "    xdata_2 = [3, 5, 7, 9, 11, 13, 15,3, 5, 7, 9, 11, 13, 15,3, 5, 7, 9, 11, 13, 15,3, 5, 7, 9, 11, 13, 15]\n",
    "    # Time Steps\n",
    "    ydata_2 = [100000.0, 100000.0, 100000.0, 100000.0, 100000.0, 100000.0, 100000.0,10000.0, 10000.0, 10000.0, 10000.0, 10000.0, 10000.0, 10000.0,1000.0, 1000.0, 1000.0, 1000.0, 1000.0, 1000.0, 1000.0,50000.0, 50000.0, 50000.0, 50000.0, 50000.0, 50000.0, 50000.0]\n",
    "\n",
    "    \n",
    "    if option == 1:\n",
    "        ax.plot_trisurf(xdata_1,ydata_1,np.log10(zdata_1))\n",
    "        ax.plot_trisurf(xdata_2,ydata_2,np.log10(zdata_2))\n",
    "\n",
    "    elif option ==0:\n",
    "        ax.scatter3D(xdata_1,ydata_1,np.log10(zdata_1),label='Spectral Explicit')\n",
    "        ax.scatter3D(xdata_2,ydata_2,np.log10(zdata_2),label='Spectral Implicit')\n",
    "        ax.legend()\n",
    "\n",
    "\n",
    "    ax.set_zlabel('Log10 Error on $T^*$')\n",
    "    ax.set_xlabel('Square Domain Size')\n",
    "    ax.set_ylabel('Number of Time Steps')\n",
    "    \n",
    "\n",
    "    return None"
   ]
  },
  {
   "cell_type": "code",
   "execution_count": 20,
   "metadata": {},
   "outputs": [],
   "source": [
    "# Enable interactivity to better view plot\n",
    "%matplotlib qt\n",
    "plot_study(0)"
   ]
  },
  {
   "cell_type": "markdown",
   "metadata": {},
   "source": [
    "From this plot of hard extracted data for running the solvers for different parameters there are a few interesting things to note.\n",
    "\n",
    "First that both parameters have a clear effect on the result. Evidently increasing the size of the domain increased the accuracy of the result (though there was a limiting value for this where beyond no increase in accuracy could be noticed). From the plot it can also be noticed that an increase in the timestep (increasing the time granularity of the computation by decreasing the time iteration interval) produces a marked increase in the accuracy. These two points would imply that in general increasing the size of the domain and decreasing the time interval improve the accuracy of the computation.\n",
    "\n",
    "The 3D plot would also indicate that the stability of a solution over the domain size paramater is lost at a lower number of time steps. This oculd however be true for all timestep values that after a large enough increase in the domain size the accuracy after converging will diverge.\n",
    "\n",
    "Below is an alternate version of the same plot with a trangulation used for filling in between data points (same colours used for data sets)."
   ]
  },
  {
   "cell_type": "code",
   "execution_count": 21,
   "metadata": {},
   "outputs": [],
   "source": [
    "plot_study(1)"
   ]
  },
  {
   "cell_type": "markdown",
   "metadata": {},
   "source": [
    "It would appear that for the spectral method that going above a 30x30 domain is problematic. This may not be related to the method in of itself but a consequence of the computing optimisation done. With my initial finite explicit method I am able to achieve much higher domain sizes (101x101) without problem. My spectral explicit method is optimised with numba whereas my finite explicit is optimised with OpenCL (and its related technologies such ad SIMD and AVX2). I think there is some memory limitation that is bottlenecking my spectral method. \n",
    "\n",
    "From previous assignments I have seen that OpenCL based solutions may not be super fast for small scale problems compared to Numba but they tend to scale much better. It is likely that one could implement the spectral method with OpenCL and that should improve the scaling of the computation."
   ]
  },
  {
   "cell_type": "markdown",
   "metadata": {},
   "source": [
    "To make clear some of these trends below is are autogeneration methods for plotting the parameter variatons to show scaling. "
   ]
  },
  {
   "cell_type": "code",
   "execution_count": 22,
   "metadata": {},
   "outputs": [
    {
     "data": {
      "text/plain": [
       "<matplotlib.legend.Legend at 0x7ffa94bfc9d0>"
      ]
     },
     "execution_count": 22,
     "metadata": {},
     "output_type": "execute_result"
    },
    {
     "data": {
      "image/png": "[encoded data removed]",
      "text/plain": [
       "<Figure size 432x288 with 1 Axes>"
      ]
     },
     "metadata": {
      "needs_background": "light"
     },
     "output_type": "display_data"
    }
   ],
   "source": [
    "%matplotlib inline\n",
    "\n",
    "#N.B. This cell is slow but does finish.\n",
    "plt.figure()\n",
    "\n",
    "def generate_expspec(j,option):\n",
    "    '''Function to compute accuracies for \n",
    "    a spectral explicit plot.\n",
    "    '''\n",
    "    results = []\n",
    "    x = []\n",
    "\n",
    "    for i in np.arange(3,17,2):\n",
    "        a,b,c = plot_spectral_explicit(1*10**j,i,0,0,1)\n",
    "        results.append(c)\n",
    "        x.append(i)\n",
    "    \n",
    "    if option ==1:\n",
    "        return x\n",
    "    if option ==0:\n",
    "        return np.log10(results)\n",
    "\n",
    "for j in range(2,7):\n",
    "    plt.plot(\n",
    "        np.arange(3,17,2),generate_expspec(j,0),\n",
    "        label='Spectral Explicit for 1x10^'+str(j)+' timesteps')\n",
    "plt.title('Spectral Explicit over domain size')\n",
    "plt.xlabel('Domain square size')\n",
    "plt.ylabel('Log 10 of Accuracy')\n",
    "plt.legend()"
   ]
  },
  {
   "cell_type": "code",
   "execution_count": 23,
   "metadata": {},
   "outputs": [
    {
     "data": {
      "text/plain": [
       "<matplotlib.legend.Legend at 0x7ffa6ae3dc50>"
      ]
     },
     "execution_count": 23,
     "metadata": {},
     "output_type": "execute_result"
    },
    {
     "data": {
      "image/png": "[encoded data removed]",
      "text/plain": [
       "<Figure size 432x288 with 1 Axes>"
      ]
     },
     "metadata": {
      "needs_background": "light"
     },
     "output_type": "display_data"
    }
   ],
   "source": [
    "%matplotlib inline\n",
    "\n",
    "#N.B. This cell is slow but does finish.\n",
    "plt.figure()\n",
    "\n",
    "def generate_impspec(j,option):\n",
    "    '''Function to compute accuracies for \n",
    "    a spectral explicit plot.\n",
    "    '''\n",
    "    results = []\n",
    "    x = []\n",
    "\n",
    "    for i in np.arange(3,17,2):\n",
    "        a,b,c = plot_spectral_implicit(1*10**j,i,0,0,1)\n",
    "        results.append(c)\n",
    "        x.append(i)\n",
    "    \n",
    "    if option ==1:\n",
    "        return x\n",
    "    if option ==0:\n",
    "        return np.log10(results)\n",
    "\n",
    "for j in range(0,4):\n",
    "    plt.plot(\n",
    "        np.arange(3,17,2),generate_impspec(j,0),\n",
    "        label='Spectral Implicit for 1x10^'+str(j)+' timesteps')\n",
    "plt.title('Spectral Implicit over domain size')\n",
    "plt.xlabel('Domain square size')\n",
    "plt.ylabel('Log 10 of Accuracy')\n",
    "plt.legend()"
   ]
  },
  {
   "cell_type": "markdown",
   "metadata": {},
   "source": [
    "Clear from these plots is how the increase in time step improves the accuracy of the computation for the explicit implementation. And also how a sufficient domain size is required for the accuracy to improve to a crtical value. The first plot also would appear to confirm the supposition that there is a valley on the accuracy whereby increasing the domain size further past a minimum point has no effect until it worsens the accuracy. And that the width of this valley is affected by the number of timesteps.\n",
    "\n",
    "From the second plot we can see the behaviour is slighty reversed with implicit (whih is what we would expect). Although the range of timesteps is shifted to allow for the total runtme of the notebook to fit in the limit we can begin to see that the implicit in some instances is more accurate wth a higher time step. It is hard to determine for certain in the available scope. It is evident from the plot that the implicit accuracy sability is much lower over the variation of the parameters. Though by comparng the plots (or rexamining the 3D plots) the implicit solution is able to achieve a higher accuracy (and in a shorter computation time) than the explicit scheme for high dt and high dx.\n",
    "\n",
    "This would imply for a small domain with not many timesteps the implicit scheme is faster and more accurate. But for larger timesteps and larger domain sizes the explicit scheme is far more scalable. This is likely due to the underlying nature of each computation in both schemes. For explicit as stated at the beginning of the notebook we are computing an equation with one unknown and many knowns whereas with implciti we are solving a system with few known and many unknowns.\n"
   ]
  },
  {
   "cell_type": "markdown",
   "metadata": {},
   "source": [
    "Bringing this together it is suggestive that using my spectral explicit method, the best possible combinations of paramaters would be as large of a domain size as the bottleneck will allow and the highest possible number of time steps."
   ]
  },
  {
   "cell_type": "markdown",
   "metadata": {},
   "source": [
    "## Summary of highest accuracy $t^*$ peformance:\n",
    "\n",
    "7th decimal place: ~1min\n",
    "```C\n",
    "plot_spectral_explicit(5E6,11,0,1,0)\n",
    "```\n",
    "\n",
    "8th decimal place: ~4mins\n",
    "```C\n",
    "plot_spectral_explicit(1E7,11,0,1,0)\n",
    "```\n",
    "\n",
    "9th decimal place: ~51mins\n",
    "```C\n",
    "plot_spectral_explicit(5E8,11,0,1,0)\n",
    "```"
   ]
  }
 ],
 "metadata": {
  "kernelspec": {
   "display_name": "Python 3",
   "language": "python",
   "name": "python3"
  },
  "language_info": {
   "codemirror_mode": {
    "name": "ipython",
    "version": 3
   },
   "file_extension": ".py",
   "mimetype": "text/x-python",
   "name": "python",
   "nbconvert_exporter": "python",
   "pygments_lexer": "ipython3",
   "version": "3.7.5"
  }
 },
 "nbformat": 4,
 "nbformat_minor": 2
}
