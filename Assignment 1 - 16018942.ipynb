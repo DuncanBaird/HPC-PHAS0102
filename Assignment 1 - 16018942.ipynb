{
 "cells": [
  {
   "cell_type": "markdown",
   "metadata": {},
   "source": [
    "# Assignment 1 16018942\n",
    "\n",
    "## 2019-10-14\n",
    "\n",
    "### Table of Contents\n",
    "1. [Introduction](#introduction)\n",
    "2. [Question 1](#question1)\n",
    "3. [Question 2](#question2)\n",
    "\n",
    "###### N.B Notebook runs in $\\approx 100s$ and formatting has been checked with autopep8 (https://pypi.org/project/autopep8/)\n"
   ]
  },
  {
   "cell_type": "markdown",
   "metadata": {},
   "source": [
    "## Introduction\n",
    "<a id=\"introduction\"></a>"
   ]
  },
  {
   "cell_type": "code",
   "execution_count": 2,
   "metadata": {},
   "outputs": [],
   "source": [
    "# Importing the neccesary python libraries for the notebook.\n",
    "import random\n",
    "import multiprocessing\n",
    "from multiprocessing import Pool\n",
    "from functools import partial\n",
    "\n",
    "# Importing the neccesary 3rd party libraries for the notebook.\n",
    "import numpy as np\n",
    "from numpy import linalg as LA\n",
    "import numexpr as ne\n",
    "from numba import njit\n",
    "from numba import vectorize\n",
    "import matplotlib.pyplot as plt\n",
    "\n",
    "# Magic command to keep plots in the notebook.\n",
    "%matplotlib inline\n",
    "\n",
    "# Importing personal .py file.\n",
    "# Contains functions for multiprocessing to use.\n",
    "#import multiprocessfunctions as mpf"
   ]
  },
  {
   "cell_type": "code",
   "execution_count": 3,
   "metadata": {},
   "outputs": [],
   "source": [
    "# Create timer for evaluating performance of algorithms.\n",
    "import time\n",
    "\n",
    "class Timer:    \n",
    "    def __enter__(self):\n",
    "        self.start = time.time()\n",
    "        return self\n",
    "\n",
    "    def __exit__(self, *args):\n",
    "        self.end = time.time()\n",
    "        self.interval = self.end - self.start"
   ]
  },
  {
   "cell_type": "markdown",
   "metadata": {},
   "source": [
    "## Question 1\n",
    "<a id=\"question1\"></a>"
   ]
  },
  {
   "cell_type": "markdown",
   "metadata": {},
   "source": [
    "Start by writing a function that is able to randomly update the position of the cursor (current place) on the lattice. I.e. adjust the x,y position corordinate by one of the four direction (+x,-x,+y,-y)."
   ]
  },
  {
   "cell_type": "code",
   "execution_count": 4,
   "metadata": {},
   "outputs": [],
   "source": [
    "@njit\n",
    "def new_cursor_position(x,y):                                                                                               \n",
    "    '''Function that computes new position after one walk.\n",
    "    Takes current cursor postion x,y corordinates as arguments\n",
    "    '''\n",
    "    direction = random.randint(1,4) #Faster than 'np.random.randint()'\n",
    "    if direction == 1:\n",
    "        y += 1\n",
    "        return x, y\n",
    "    elif direction == 2:\n",
    "        x += 1\n",
    "        return x, y\n",
    "    elif direction == 3:\n",
    "        y -= 1\n",
    "        return x, y\n",
    "    else:\n",
    "        x -= 1\n",
    "        return x, y"
   ]
  },
  {
   "cell_type": "markdown",
   "metadata": {},
   "source": [
    "Python random library is used instead of numpy.random as it is marginly faster (at the cost of being less random but this not important for this application). Also I noticed that 'x = x+1' is slower than 'x += 1' so the faster practice is used throughout."
   ]
  },
  {
   "cell_type": "markdown",
   "metadata": {},
   "source": [
    "Then write function to verify if the cursor position is on a lattice edge."
   ]
  },
  {
   "cell_type": "code",
   "execution_count": 5,
   "metadata": {},
   "outputs": [],
   "source": [
    "@njit\n",
    "def edge_detect(x_i,y_i, N):\n",
    "    '''Function to check if cursor position is on lattice edge.\n",
    "    Takes cursor position and size of square unit lattice as arguments.\n",
    "    Returns 1,0,-1 to indicate edge detection or not.\n",
    "    '''\n",
    "    if y_i == 1:\n",
    "        return 1\n",
    "    elif y_i == N:\n",
    "        return -1\n",
    "    elif x_i == 1:\n",
    "        return -1\n",
    "    elif x_i == N:\n",
    "        return -1\n",
    "    else:\n",
    "        return 0"
   ]
  },
  {
   "cell_type": "markdown",
   "metadata": {},
   "source": [
    "Then write function to move the cursor. I.e. to simulate walking the cursor from a given start position on the lattice."
   ]
  },
  {
   "cell_type": "code",
   "execution_count": 6,
   "metadata": {},
   "outputs": [],
   "source": [
    "@njit\n",
    "def random_walk_cursor(x_i,y_i,N):                                                                                                  \n",
    "    '''Function for walking the cursor from the start position.\n",
    "    A hard coded maximum step number for each walk is implemented.\n",
    "    Returns Boolean for if the walk does or does not reach lattice\n",
    "    edge.\n",
    "    '''\n",
    "    max_step = 1000\n",
    "    current_step = 0\n",
    "    while (current_step < max_step):\n",
    "        if edge_detect(x_i,y_i,N) == 1:\n",
    "            return True\n",
    "        elif edge_detect(x_i,y_i,N) == 0:\n",
    "            x_i, y_i = new_cursor_position(x_i, y_i)\n",
    "            current_step += 1\n",
    "        elif edge_detect(x_i,y_i,N) == -1:\n",
    "            return False\n",
    "    return False"
   ]
  },
  {
   "cell_type": "markdown",
   "metadata": {},
   "source": [
    "Then final function to run the simulation of the cursor walking for a given number of times to try walking from each position."
   ]
  },
  {
   "cell_type": "code",
   "execution_count": 7,
   "metadata": {},
   "outputs": [],
   "source": [
    "@njit\n",
    "def random_walk_across_lattice(lattice_size,walks_per_point):\n",
    "    '''Function to simulate the cursor walking on the lattice.\n",
    "    Arguments: size of square lattice, number of walks made by point.\n",
    "    Returns array of walk completion probabilities for lattice positions.\n",
    "    '''\n",
    "    result_array = np.empty(shape=(lattice_size,lattice_size), dtype= np.float64)\n",
    "    place_x = 1\n",
    "    place_y = lattice_size\n",
    "    while place_y >= 1:\n",
    "        while place_x <= lattice_size:\n",
    "            walk_number = 0\n",
    "            sucesses = 0\n",
    "            while walk_number < walks_per_point:\n",
    "                result_of_walk = random_walk_cursor(place_x, place_y, lattice_size)                               \n",
    "                if result_of_walk == True:\n",
    "                    sucesses += 1\n",
    "                walk_number += 1\n",
    "            probability = sucesses/walks_per_point\n",
    "            result_array[place_y-1, place_x-1] = probability\n",
    "            place_x += 1\n",
    "        place_y -= 1\n",
    "        place_x = 1\n",
    "    return result_array"
   ]
  },
  {
   "cell_type": "markdown",
   "metadata": {},
   "source": [
    "Running the lattice walking simulation with a timer to measure the performance."
   ]
  },
  {
   "cell_type": "code",
   "execution_count": 10,
   "metadata": {},
   "outputs": [
    {
     "name": "stdout",
     "output_type": "stream",
     "text": [
      "Time to run walk: 0.004313230514526367s\n"
     ]
    }
   ],
   "source": [
    "with Timer() as t:\n",
    "    plot_data = random_walk_across_lattice(10,15)\n",
    "print(\"Time to run walk: {0}s\".format(t.interval))\n"
   ]
  },
  {
   "cell_type": "markdown",
   "metadata": {},
   "source": [
    "Then we can plot a heatmap of the probabilities for the entire unit lattice."
   ]
  },
  {
   "cell_type": "code",
   "execution_count": 9,
   "metadata": {},
   "outputs": [
    {
     "data": {
      "image/png": "[encoded data removed]",
      "text/plain": [
       "<Figure size 936x936 with 2 Axes>"
      ]
     },
     "metadata": {
      "needs_background": "light"
     },
     "output_type": "display_data"
    }
   ],
   "source": [
    "# Plotting method of data.\n",
    "# Plot axis are modified to display for unit lattice.\n",
    "plt.figure(figsize=(13,13))\n",
    "plt.imshow(plot_data, cmap='viridis',origin ='lower',extent=[0,1,0,1])\n",
    "plt.colorbar(label='Probability')\n",
    "plt.title('Heatmap of unit square lattice probabilities.')\n",
    "plt.xlabel('$x$ Position')\n",
    "plt.ylabel('$y$ Position')\n",
    "plt.show()"
   ]
  },
  {
   "cell_type": "markdown",
   "metadata": {},
   "source": [
    "Using numba to optimise the walking on lattice simulation seems to have produced an optimised version. Also simplifying the loop structures, calculations and array operations to reduce the calculations has helped marginly increase the performance."
   ]
  },
  {
   "cell_type": "markdown",
   "metadata": {},
   "source": [
    "We can then try run the lattice walking simulation for different lattice sizes and examine the performance trend over time. The first magenta points were used to create the trendline, the last red point was used to verify the trendline."
   ]
  },
  {
   "cell_type": "code",
   "execution_count": null,
   "metadata": {},
   "outputs": [],
   "source": [
    "# Lattice simulation performance data.\n",
    "lattice_values = [50,100,150,200]\n",
    "timer_values = [2.02,27,93,219]\n",
    "\n",
    "# Lattice simulation performance fit.\n",
    "x_fit = np.linspace(0,1000,10000)\n",
    "y_fit = 0.0082*x_fit**2-0.73*x_fit+18\n",
    "\n",
    "# Plotting results\n",
    "plt.figure(figsize=(15,4))\n",
    "plt.plot(x_fit,y_fit,\n",
    "         ':',label='Trendline 2nd order poly',color='skyblue')\n",
    "plt.plot(lattice_values[0:3],timer_values[0:3],\n",
    "         'o',label='Trend measurement',color='steelblue')\n",
    "plt.plot(lattice_values[3:4],timer_values[3:4],\n",
    "         'o',label='Trend verification',color='rebeccapurple')\n",
    "\n",
    "plt.xlabel('Lattice size')\n",
    "plt.ylabel('Time to procces s')\n",
    "plt.legend()\n",
    "plt.title('Performance as a function of lattice size')\n",
    "plt.show()"
   ]
  },
  {
   "cell_type": "markdown",
   "metadata": {},
   "source": [
    "From the heatmap of the simulation we can see that the probabnility distribution on the lattice is approximately symmetric about the mid point of the x positions on the lattice. This would then suggest that a massive performance increase could be gained by only computing probabilities for half of the x positions and then mirroring the probability data to show for the whole lattice. This also suggests that time to run the algorithm diverges as the lattice size tends to infinity."
   ]
  },
  {
   "cell_type": "code",
   "execution_count": null,
   "metadata": {},
   "outputs": [],
   "source": [
    "def random_walk_across_lattice_half(lattice_size,walks_per_point):\n",
    "    '''Function to simulate the cursor walking on the halved lattice.\n",
    "    Arguments: size of square lattice, number of walks made by point.\n",
    "    Returns array of walk completion probabilities for half the lattice positions.\n",
    "    '''\n",
    "    lattice_size_half=int(lattice_size/2)\n",
    "    result_array = np.empty(shape=(lattice_size,lattice_size_half), dtype= np.float64)\n",
    "    place_x = 1\n",
    "    place_y = lattice_size\n",
    "    while place_y >= 1:\n",
    "        while place_x <= lattice_size_half:\n",
    "            walk_number = 0\n",
    "            sucesses = 0\n",
    "            while walk_number < walks_per_point:\n",
    "                result_of_walk = random_walk_cursor(place_x, place_y, lattice_size)                               \n",
    "                if result_of_walk == True:\n",
    "                    sucesses += 1\n",
    "                walk_number += 1\n",
    "            probability = sucesses/walks_per_point\n",
    "            result_array[place_y-1, place_x-1] = probability\n",
    "            place_x += 1\n",
    "        place_y -= 1\n",
    "        place_x = 1\n",
    "    return (np.concatenate((result_array,np.flip(result_array,axis=-1)),axis=-1))"
   ]
  },
  {
   "cell_type": "markdown",
   "metadata": {},
   "source": [
    "Numba is not used here as array mirroring and merging in the return statement contains an unsupported function which Numba cannot work with. A workaround for this could be made by embedding part of 'random_walk_on_latticehalf' in an internal function which Numba is able to work with, but the performance gain from this is minimal and is therefore not done."
   ]
  },
  {
   "cell_type": "markdown",
   "metadata": {},
   "source": [
    "Running the lattice walking simulation with a timer to measure the performance."
   ]
  },
  {
   "cell_type": "code",
   "execution_count": null,
   "metadata": {},
   "outputs": [],
   "source": [
    "with Timer() as t:\n",
    "    plot_data_half = random_walk_across_lattice_half(100,150)\n",
    "print(\"Time to run walk: {0}s\".format(t.interval))\n",
    "\n"
   ]
  },
  {
   "cell_type": "code",
   "execution_count": null,
   "metadata": {},
   "outputs": [],
   "source": [
    "# Plotting method of data\n",
    "# Plot axis are modified to display for unit lattice.\n",
    "plt.figure(figsize=(13,13))\n",
    "plt.imshow(plot_data_half, cmap='viridis',origin ='lower',extent=[0,1,0,1])\n",
    "plt.colorbar(label='Probability')\n",
    "plt.title('Heatmap of unit square lattice probabilities.')\n",
    "plt.xlabel('$x$ Position')\n",
    "plt.ylabel('$y$ Position')\n",
    "plt.show()"
   ]
  },
  {
   "cell_type": "markdown",
   "metadata": {},
   "source": [
    "As before we can examine the performance of this method over increasing lattice sizes."
   ]
  },
  {
   "cell_type": "code",
   "execution_count": null,
   "metadata": {},
   "outputs": [],
   "source": [
    "# Lattice simulation performance data.\n",
    "lattice_values = [50,100,150,200]\n",
    "timer_values = [2.02,27,93,219]\n",
    "\n",
    "# Halved Lattice simulation performance data.\n",
    "lattice_values_half = [50,100,150,200]\n",
    "timer_values_half = [1.14,13.6,53.7,130]\n",
    "\n",
    "# Lattice simulation performance fit.\n",
    "x_fit = np.linspace(0,500,10000)\n",
    "y_fit = 0.0082*x_fit**2-0.73*x_fit+18\n",
    "\n",
    "# Halved Lattice simulation performance fit.\n",
    "y_fit_half = 0.0055*x_fit**2-0.57*x_fit+16\n",
    "\n",
    "\n",
    "# Plotting results.\n",
    "plt.figure(figsize=(15,4))\n",
    "plt.plot(x_fit,y_fit,\n",
    "         ':',label='Normal: Trendline 2nd order poly',color='skyblue')\n",
    "plt.plot(x_fit,y_fit_half,\n",
    "         ':',label='Halved: Trendline 2nd order poly',color='maroon')\n",
    "plt.plot(lattice_values[0:3],timer_values[0:3],\n",
    "         'o',label='Normal: Trend measurement',color='steelblue')\n",
    "plt.plot(lattice_values[3:4],timer_values[3:4],\n",
    "         'o',label='Normal: Trend verification',color='rebeccapurple')\n",
    "plt.plot(lattice_values_half[0:3],timer_values_half[0:3],\n",
    "         'x',label='Halved: Trend measurement',color='coral')\n",
    "plt.plot(lattice_values_half[3:4],timer_values_half[3:4],\n",
    "         'x',label='Halved: Trend verification',color='fuchsia')\n",
    "\n",
    "plt.xlabel('Lattice size')\n",
    "plt.ylabel('Time to procces s')\n",
    "plt.title('Algorithm performance comparison as a function of lattice size')\n",
    "plt.legend()\n",
    "plt.show()"
   ]
  },
  {
   "cell_type": "markdown",
   "metadata": {},
   "source": [
    "The trendlines clearly show that the 'halved' algorithm is considerably faster. This is good but evidently comparing the heatmaps we can see that it is more approximative with regards to precision as we are infact simulating less walks. A comparison with the analytical solution for the probability distribution (http://mathworld.wolfram.com/PolyasRandomWalkConstants.html) would need to be made to definitively say how accurate the 'halved' algorithm is. Important to note that this method only works for even parity lattices. While the algorithm will produce a result for an odd parity lattice the results may or may not be correct as the value for half the lattice size is cast from a floating point to an integer and thus will be rounded and lose definiton."
   ]
  },
  {
   "cell_type": "markdown",
   "metadata": {},
   "source": [
    "We can similarly look at the trend for the number of walks for a fixed lattice size ($N=50$)."
   ]
  },
  {
   "cell_type": "code",
   "execution_count": null,
   "metadata": {},
   "outputs": [],
   "source": [
    "# Lattice simulation performance data.\n",
    "lattice_values_walks= [50,100,150,200,500,1000]\n",
    "timer_values_walks = [0.59,1.13,1.8,2.3,5.7,11.59]\n",
    "\n",
    "# Lattice simulation performance fit.\n",
    "x_fit = np.linspace(0,1000,10000)\n",
    "\n",
    "# Halved Lattice simulation performance fit.\n",
    "y_fit_half_walks = 0.0121*x_fit-0.0367\n",
    "\n",
    "\n",
    "# Plotting results.\n",
    "plt.figure(figsize=(15,4))\n",
    "\n",
    "plt.plot(x_fit,y_fit_half_walks,\n",
    "         ':',label='Halved: Trendline linear regression',color='maroon')\n",
    "plt.plot(lattice_values_walks[0:4],timer_values_walks[0:4],\n",
    "         'o',label='Halved: Trend measurement',color='olive')\n",
    "plt.plot(lattice_values_walks[4:6],timer_values_walks[4:6],\n",
    "         'x',label='Halved: Trend verification',color='fuchsia')\n",
    "\n",
    "plt.xlabel('Number of walks per position')\n",
    "plt.ylabel('Time to procces s')\n",
    "plt.title('Performance as a function of walk number for $N=50$')\n",
    "plt.legend()\n",
    "plt.show()"
   ]
  },
  {
   "cell_type": "markdown",
   "metadata": {},
   "source": [
    "This would appear to indicate the the time to compute scales linearly with the number of walks per position for a given lattice size, this would appear to also diverge, but less strongly."
   ]
  },
  {
   "cell_type": "markdown",
   "metadata": {},
   "source": [
    "## Question 2\n",
    "<a id=\"question2\"></a>"
   ]
  },
  {
   "cell_type": "markdown",
   "metadata": {},
   "source": [
    "Start by defining the functions in the question in the simplest possible way."
   ]
  },
  {
   "cell_type": "code",
   "execution_count": null,
   "metadata": {},
   "outputs": [],
   "source": [
    "# For convenience.\n",
    "PI = np.pi"
   ]
  },
  {
   "cell_type": "markdown",
   "metadata": {},
   "source": [
    "Represents function $u(x)$ in question. Numexpr and numpy are used to remove the need for looping over array alements which greatly increases performance."
   ]
  },
  {
   "cell_type": "code",
   "execution_count": null,
   "metadata": {},
   "outputs": [],
   "source": [
    "# This function is called from external .py file.\n",
    "def potential(charge_position,test_position):\n",
    "    '''Function for computing potential at a SINGLE test point. \n",
    "    Arguments are numpy arrays of charge points and test point.\n",
    "    '''\n",
    "    norm = LA.norm(ne.evaluate('charge_position-test_position'),axis=(test_position.ndim-1))\n",
    "    potential = ne.evaluate('sum((1/(2*PI))*log(abs(norm)))')\n",
    "    return potential"
   ]
  },
  {
   "cell_type": "markdown",
   "metadata": {},
   "source": [
    "We use multiprocessing here to parallelize the computation of the potentials over the different test points thus each test point is computed against all charge points in for a given pool. Numexpr is again used to quickly sum the array elements."
   ]
  },
  {
   "cell_type": "code",
   "execution_count": null,
   "metadata": {},
   "outputs": [],
   "source": [
    "def multi_potential(test_position,charge_position):\n",
    "    '''Function to multiprocess for all test points,x.\n",
    "    Takes charges points as constant across pools.\n",
    "    Arguments are test points and charge points in array.\n",
    "    Returns potential sum for all test points.\n",
    "    '''\n",
    "    \n",
    "    # Creates multiprocessing pool.\n",
    "    pool = multiprocessing.Pool(processes=4)\n",
    "    \n",
    "    # Create partial function with constant charge_position array.\n",
    "    partial_potential = partial(mpf.potential, charge_position)\n",
    "    # Run multiprocessing on partial function for parallelised test_position array.\n",
    "    sumpotential = pool.map(partial_potential, test_position)\n",
    "    \n",
    "    pool.close()\n",
    "    pool.join()\n",
    "    \n",
    "    return ne.evaluate('sum(sumpotential)')\n",
    "    "
   ]
  },
  {
   "cell_type": "markdown",
   "metadata": {},
   "source": [
    "Represents the trapezoid approximation for function $f$ in the question. Numexpr and numpy are used to perform quick calculations on arrays to avoid using loops."
   ]
  },
  {
   "cell_type": "code",
   "execution_count": null,
   "metadata": {},
   "outputs": [],
   "source": [
    "def function_f(number_tests, number_charges, radius):\n",
    "    '''Function to compute function in question\n",
    "    sum without loops.\n",
    "    Takes arguments of number of test points, number of charges\n",
    "    and radius of test circle.\n",
    "    '''\n",
    "    unitcircleseed = np.linspace(0,PI*2,number_charges)\n",
    "    circleseed = np.linspace(0,PI*2,number_tests)\n",
    "    unitrandom = np.random.rand(1,number_charges)\n",
    "    unitcirclepoints = np.array(\n",
    "        [ne.evaluate('unitrandom*cos(unitcircleseed)'),\n",
    "         ne.evaluate('unitrandom*sin(unitcircleseed)')]).T\n",
    "    circlepoints = np.array(\n",
    "        [ne.evaluate('radius*cos(circleseed)'),\n",
    "         ne.evaluate('radius*sin(circleseed)')]).T\n",
    "    potentialvalue = multi_potential(circlepoints,unitcirclepoints)\n",
    "    return (1/(number_tests*number_charges))*potentialvalue"
   ]
  },
  {
   "cell_type": "markdown",
   "metadata": {},
   "source": [
    "Then we can implement the function for $f$ and plot the results of which as a function of test circle radius. A time is used around the calling of the function (but not the plotting) to evaluate the performance."
   ]
  },
  {
   "cell_type": "code",
   "execution_count": null,
   "metadata": {
    "scrolled": true
   },
   "outputs": [],
   "source": [
    "# Plotting f as function of r.\n",
    "# Using timer to evaluate performance.\n",
    "with Timer() as t:\n",
    "    radius_array = np.arange(1,10)\n",
    "    f_array = []\n",
    "    for i in range(1,10): \n",
    "        f_array.append(function_f(1000,1000,i))\n",
    "print(\"Time to run: {0}\".format(t.interval))\n",
    "plt.figure()\n",
    "plt.plot(radius_array,f_array)\n",
    "plt.xlabel('Radius of test point circle')\n",
    "plt.ylabel('Function $f$')\n",
    "plt.title('$f$ as a function of test circle radius')\n",
    "plt.show()"
   ]
  },
  {
   "cell_type": "markdown",
   "metadata": {},
   "source": [
    "Now similarly for finding the expectation value we define the neccesary functions first in a simple form."
   ]
  },
  {
   "cell_type": "code",
   "execution_count": null,
   "metadata": {},
   "outputs": [],
   "source": [
    "def expectation_value(radius, number_tests, number_charges):\n",
    "    '''Function to find expectation value using function_sum2.\n",
    "    Takes radius of test circle, number of test points and\n",
    "    number of charges as arguments. Returns array of \n",
    "    expectation values.\n",
    "    '''\n",
    "    \n",
    "    f = function_f(number_tests, number_charges, radius)\n",
    "    u_0 = ne.evaluate('1/(2*PI)*log(radius)')\n",
    "    \n",
    "    return (f-u_0)/u_0"
   ]
  },
  {
   "cell_type": "markdown",
   "metadata": {},
   "source": [
    "Then we can implement the function for e (expectation) and plot the results of which as a function of r. A time is used around the calling of the function (but not the plotting) to evaluate the performance."
   ]
  },
  {
   "cell_type": "code",
   "execution_count": null,
   "metadata": {},
   "outputs": [],
   "source": [
    "# Plotting e as function of r.\n",
    "with Timer() as t:\n",
    "    radius_array = np.arange(2,10)\n",
    "    expectation_array = []\n",
    "    for i in range(2,10): \n",
    "        expectation_array.append(expectation_value(i,1000,1000))\n",
    "print(\"Time to run: {0}\".format(t.interval))\n",
    "plt.figure()\n",
    "plt.plot(radius_array,expectation_array)\n",
    "plt.xlabel('Radius of test point circle')\n",
    "plt.ylabel('Expectation value')\n",
    "plt.title('Expectation value as function test circle radius')\n",
    "plt.show()"
   ]
  },
  {
   "cell_type": "markdown",
   "metadata": {},
   "source": [
    "Ideally one would like to multiprocess, the for loop both here and the previous plot for $f$, over the different radii but it would appear that nesting the multiprocessing methods in this way is not possible. "
   ]
  },
  {
   "cell_type": "markdown",
   "metadata": {},
   "source": [
    "Then peform multiple trials with expectation value to find the convergence of the expectation value."
   ]
  },
  {
   "cell_type": "code",
   "execution_count": null,
   "metadata": {},
   "outputs": [],
   "source": [
    "# Plotting average e as function of r for multiple trials.\n",
    "with Timer() as t:\n",
    "    radius_array = np.arange(2,10)\n",
    "    trials = 5\n",
    "    trial_array = np.zeros((trials,8))\n",
    "    \n",
    "    # Loop for multiple trials.\n",
    "    for m in range(0,trials):\n",
    "        expectation_array = []\n",
    "        for i in range(2,10): \n",
    "            expectation_array.append(expectation_value(i,1000,1000))\n",
    "        trial_array[m]=expectation_array\n",
    "\n",
    "dummy_array = ne.evaluate('sum(trial_array,axis=0)')\n",
    "expectation_average = ne.evaluate('dummy_array/trials')\n",
    "\n",
    "print(\"Time to run: {0}\".format(t.interval))\n",
    "plt.figure()\n",
    "plt.plot(radius_array,expectation_average)\n",
    "plt.xlabel('Radius of test point circle')\n",
    "plt.ylabel('Expectation value')\n",
    "plt.title('Average expectation value for %i trials' %trials)\n",
    "plt.show()"
   ]
  },
  {
   "cell_type": "markdown",
   "metadata": {},
   "source": [
    "It can be seen that by comparing the two plots the taking of mutiple trials and averaging the results produces essentially the same result which suggests that the number of random trials has little influence on the result. Interesting to note though is that running for 5 trials, the total time taken is less than 5 times that of a single trial (above). Ideally one would like to multiprocess the for loop here but it would appear that nesting the multiprocessing methods in this way is not possible. \n",
    "\n",
    "It also would appear from varying the number of test points and charge points that they tend to make the result smoother and more accurate as you increase them. This implies that increasing these parameters causes the expectation to converge."
   ]
  }
 ],
 "metadata": {
  "kernelspec": {
   "display_name": "Python 3",
   "language": "python",
   "name": "python3"
  },
  "language_info": {
   "codemirror_mode": {
    "name": "ipython",
    "version": 3
   },
   "file_extension": ".py",
   "mimetype": "text/x-python",
   "name": "python",
   "nbconvert_exporter": "python",
   "pygments_lexer": "ipython3",
   "version": "3.7.5"
  }
 },
 "nbformat": 4,
 "nbformat_minor": 2
}
